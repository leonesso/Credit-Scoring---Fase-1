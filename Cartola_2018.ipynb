{
  "cells": [
    {
      "cell_type": "markdown",
      "metadata": {
        "id": "view-in-github",
        "colab_type": "text"
      },
      "source": [
        "<a href=\"https://colab.research.google.com/github/leonesso/Credit-Scoring---Fase-1/blob/main/Cartola_2018.ipynb\" target=\"_parent\"><img src=\"https://colab.research.google.com/assets/colab-badge.svg\" alt=\"Open In Colab\"/></a>"
      ]
    },
    {
      "cell_type": "markdown",
      "id": "884321a3",
      "metadata": {
        "id": "884321a3"
      },
      "source": [
        "### Exemplo 3: Resultados de partida de Futebol"
      ]
    },
    {
      "cell_type": "markdown",
      "id": "54547b30",
      "metadata": {
        "id": "54547b30"
      },
      "source": [
        "#### Construir o modelo preditivo a fim de prever o resultado de partidas do campeonato brasileiro.\n",
        "\n",
        "Considerando que a quantidade de gols marcados (K) em uma partida de futebol do Campeonato Brasileiro de Futebol (Brasileirão) em 2018 seja uma variável aleatória que segue a distribuição de Poisson com média de gols igual a 𝜆. A frequência média ou esperada de ocorrências num determinado intervalo de tempo é dada por 𝜆.\n",
        "\n",
        " Calcule a probabilidade de ocorrer k = 0, 1, 2, 3, 4, 5, 6 e 7\n",
        "   "
      ]
    },
    {
      "cell_type": "code",
      "source": [
        "import pandas as pd\n",
        "import seaborn as sb\n",
        "import math"
      ],
      "metadata": {
        "id": "W9pZFanZ7qMm"
      },
      "id": "W9pZFanZ7qMm",
      "execution_count": 5,
      "outputs": []
    },
    {
      "cell_type": "code",
      "execution_count": 6,
      "id": "11b3297d",
      "metadata": {
        "id": "11b3297d"
      },
      "outputs": [],
      "source": [
        "# Importar os dados do Cartola FC de 2018 para estimar a média de gols.\n",
        "\n",
        "cartolafc = pd.read_excel(r'cartola_fc_2018.xlsx')"
      ]
    },
    {
      "cell_type": "code",
      "execution_count": null,
      "id": "c5fc435f",
      "metadata": {
        "id": "c5fc435f",
        "outputId": "8e2241da-c008-4ec3-9ec2-40d538dd1f33"
      },
      "outputs": [
        {
          "data": {
            "text/html": [
              "<div>\n",
              "<style scoped>\n",
              "    .dataframe tbody tr th:only-of-type {\n",
              "        vertical-align: middle;\n",
              "    }\n",
              "\n",
              "    .dataframe tbody tr th {\n",
              "        vertical-align: top;\n",
              "    }\n",
              "\n",
              "    .dataframe thead th {\n",
              "        text-align: right;\n",
              "    }\n",
              "</style>\n",
              "<table border=\"1\" class=\"dataframe\">\n",
              "  <thead>\n",
              "    <tr style=\"text-align: right;\">\n",
              "      <th></th>\n",
              "      <th>game</th>\n",
              "      <th>round</th>\n",
              "      <th>date</th>\n",
              "      <th>home_team</th>\n",
              "      <th>score</th>\n",
              "      <th>gol_m</th>\n",
              "      <th>gol_v</th>\n",
              "      <th>gols</th>\n",
              "      <th>arena</th>\n",
              "      <th>Local</th>\n",
              "    </tr>\n",
              "  </thead>\n",
              "  <tbody>\n",
              "    <tr>\n",
              "      <th>0</th>\n",
              "      <td>1</td>\n",
              "      <td>1</td>\n",
              "      <td>14/04/2018 - 16:00</td>\n",
              "      <td>Cruzeiro - MG</td>\n",
              "      <td>0 x 1</td>\n",
              "      <td>0</td>\n",
              "      <td>1</td>\n",
              "      <td>1</td>\n",
              "      <td>Grêmio - RS</td>\n",
              "      <td>Mineirão - Belo Horizonte - MG</td>\n",
              "    </tr>\n",
              "    <tr>\n",
              "      <th>1</th>\n",
              "      <td>2</td>\n",
              "      <td>1</td>\n",
              "      <td>15/04/2018 - 19:00</td>\n",
              "      <td>Atlético - PR</td>\n",
              "      <td>5 x 1</td>\n",
              "      <td>5</td>\n",
              "      <td>1</td>\n",
              "      <td>6</td>\n",
              "      <td>Chapecoense - SC</td>\n",
              "      <td>Arena da Baixada - Curitiba - PR</td>\n",
              "    </tr>\n",
              "    <tr>\n",
              "      <th>2</th>\n",
              "      <td>3</td>\n",
              "      <td>1</td>\n",
              "      <td>15/04/2018 - 11:00</td>\n",
              "      <td>América - MG</td>\n",
              "      <td>3 x 0</td>\n",
              "      <td>3</td>\n",
              "      <td>0</td>\n",
              "      <td>3</td>\n",
              "      <td>Sport - PE</td>\n",
              "      <td>Independência - Belo Horizonte - MG</td>\n",
              "    </tr>\n",
              "    <tr>\n",
              "      <th>3</th>\n",
              "      <td>4</td>\n",
              "      <td>1</td>\n",
              "      <td>14/04/2018 - 19:00</td>\n",
              "      <td>Vitória - BA</td>\n",
              "      <td>2 x 2</td>\n",
              "      <td>2</td>\n",
              "      <td>2</td>\n",
              "      <td>4</td>\n",
              "      <td>Flamengo - RJ</td>\n",
              "      <td>Manoel Barradas - Salvador - BA</td>\n",
              "    </tr>\n",
              "    <tr>\n",
              "      <th>4</th>\n",
              "      <td>5</td>\n",
              "      <td>1</td>\n",
              "      <td>15/04/2018 - 16:00</td>\n",
              "      <td>Vasco da Gama - RJ</td>\n",
              "      <td>2 x 1</td>\n",
              "      <td>2</td>\n",
              "      <td>1</td>\n",
              "      <td>3</td>\n",
              "      <td>Atlético - MG</td>\n",
              "      <td>São Januário - Rio de Janeiro - RJ</td>\n",
              "    </tr>\n",
              "  </tbody>\n",
              "</table>\n",
              "</div>"
            ],
            "text/plain": [
              "   game  round                date           home_team  score  gol_m  gol_v  \\\n",
              "0     1      1  14/04/2018 - 16:00       Cruzeiro - MG  0 x 1      0      1   \n",
              "1     2      1  15/04/2018 - 19:00       Atlético - PR  5 x 1      5      1   \n",
              "2     3      1  15/04/2018 - 11:00        América - MG  3 x 0      3      0   \n",
              "3     4      1  14/04/2018 - 19:00        Vitória - BA  2 x 2      2      2   \n",
              "4     5      1  15/04/2018 - 16:00  Vasco da Gama - RJ  2 x 1      2      1   \n",
              "\n",
              "   gols             arena                                Local  \n",
              "0     1       Grêmio - RS       Mineirão - Belo Horizonte - MG  \n",
              "1     6  Chapecoense - SC     Arena da Baixada - Curitiba - PR  \n",
              "2     3        Sport - PE  Independência - Belo Horizonte - MG  \n",
              "3     4     Flamengo - RJ      Manoel Barradas - Salvador - BA  \n",
              "4     3     Atlético - MG   São Januário - Rio de Janeiro - RJ  "
            ]
          },
          "execution_count": 8,
          "metadata": {},
          "output_type": "execute_result"
        }
      ],
      "source": [
        "cartolafc.head()"
      ]
    },
    {
      "cell_type": "code",
      "execution_count": 7,
      "id": "58bc7e39",
      "metadata": {
        "colab": {
          "base_uri": "https://localhost:8080/"
        },
        "id": "58bc7e39",
        "outputId": "913bcdeb-9d8a-4b2c-e193-050c2bead029"
      },
      "outputs": [
        {
          "output_type": "stream",
          "name": "stdout",
          "text": [
            "<class 'pandas.core.frame.DataFrame'>\n",
            "RangeIndex: 380 entries, 0 to 379\n",
            "Data columns (total 10 columns):\n",
            " #   Column     Non-Null Count  Dtype \n",
            "---  ------     --------------  ----- \n",
            " 0   game       380 non-null    int64 \n",
            " 1   round      380 non-null    int64 \n",
            " 2   date       380 non-null    object\n",
            " 3   home_team  380 non-null    object\n",
            " 4   score      380 non-null    object\n",
            " 5   gol_m      380 non-null    int64 \n",
            " 6   gol_v      380 non-null    int64 \n",
            " 7   gols       380 non-null    int64 \n",
            " 8   arena      380 non-null    object\n",
            " 9   Local      380 non-null    object\n",
            "dtypes: int64(5), object(5)\n",
            "memory usage: 29.8+ KB\n"
          ]
        }
      ],
      "source": [
        "cartolafc.info()"
      ]
    },
    {
      "cell_type": "code",
      "execution_count": 8,
      "id": "cf68eaa2",
      "metadata": {
        "colab": {
          "base_uri": "https://localhost:8080/",
          "height": 300
        },
        "id": "cf68eaa2",
        "outputId": "c31a72f7-4849-40a7-c9b8-c5b276a3e63f"
      },
      "outputs": [
        {
          "output_type": "execute_result",
          "data": {
            "text/plain": [
              "         game   round   gol_m   gol_v    gols\n",
              "count  380.00  380.00  380.00  380.00  380.00\n",
              "mean   190.50   19.50    1.38    0.79    2.18\n",
              "std    109.84   10.98    1.12    0.91    1.48\n",
              "min      1.00    1.00    0.00    0.00    0.00\n",
              "25%     95.75   10.00    1.00    0.00    1.00\n",
              "50%    190.50   19.50    1.00    1.00    2.00\n",
              "75%    285.25   29.00    2.00    1.00    3.00\n",
              "max    380.00   38.00    5.00    4.00    7.00"
            ],
            "text/html": [
              "\n",
              "  <div id=\"df-0b9e3469-1182-487b-a250-3a342cf6371d\" class=\"colab-df-container\">\n",
              "    <div>\n",
              "<style scoped>\n",
              "    .dataframe tbody tr th:only-of-type {\n",
              "        vertical-align: middle;\n",
              "    }\n",
              "\n",
              "    .dataframe tbody tr th {\n",
              "        vertical-align: top;\n",
              "    }\n",
              "\n",
              "    .dataframe thead th {\n",
              "        text-align: right;\n",
              "    }\n",
              "</style>\n",
              "<table border=\"1\" class=\"dataframe\">\n",
              "  <thead>\n",
              "    <tr style=\"text-align: right;\">\n",
              "      <th></th>\n",
              "      <th>game</th>\n",
              "      <th>round</th>\n",
              "      <th>gol_m</th>\n",
              "      <th>gol_v</th>\n",
              "      <th>gols</th>\n",
              "    </tr>\n",
              "  </thead>\n",
              "  <tbody>\n",
              "    <tr>\n",
              "      <th>count</th>\n",
              "      <td>380.00</td>\n",
              "      <td>380.00</td>\n",
              "      <td>380.00</td>\n",
              "      <td>380.00</td>\n",
              "      <td>380.00</td>\n",
              "    </tr>\n",
              "    <tr>\n",
              "      <th>mean</th>\n",
              "      <td>190.50</td>\n",
              "      <td>19.50</td>\n",
              "      <td>1.38</td>\n",
              "      <td>0.79</td>\n",
              "      <td>2.18</td>\n",
              "    </tr>\n",
              "    <tr>\n",
              "      <th>std</th>\n",
              "      <td>109.84</td>\n",
              "      <td>10.98</td>\n",
              "      <td>1.12</td>\n",
              "      <td>0.91</td>\n",
              "      <td>1.48</td>\n",
              "    </tr>\n",
              "    <tr>\n",
              "      <th>min</th>\n",
              "      <td>1.00</td>\n",
              "      <td>1.00</td>\n",
              "      <td>0.00</td>\n",
              "      <td>0.00</td>\n",
              "      <td>0.00</td>\n",
              "    </tr>\n",
              "    <tr>\n",
              "      <th>25%</th>\n",
              "      <td>95.75</td>\n",
              "      <td>10.00</td>\n",
              "      <td>1.00</td>\n",
              "      <td>0.00</td>\n",
              "      <td>1.00</td>\n",
              "    </tr>\n",
              "    <tr>\n",
              "      <th>50%</th>\n",
              "      <td>190.50</td>\n",
              "      <td>19.50</td>\n",
              "      <td>1.00</td>\n",
              "      <td>1.00</td>\n",
              "      <td>2.00</td>\n",
              "    </tr>\n",
              "    <tr>\n",
              "      <th>75%</th>\n",
              "      <td>285.25</td>\n",
              "      <td>29.00</td>\n",
              "      <td>2.00</td>\n",
              "      <td>1.00</td>\n",
              "      <td>3.00</td>\n",
              "    </tr>\n",
              "    <tr>\n",
              "      <th>max</th>\n",
              "      <td>380.00</td>\n",
              "      <td>38.00</td>\n",
              "      <td>5.00</td>\n",
              "      <td>4.00</td>\n",
              "      <td>7.00</td>\n",
              "    </tr>\n",
              "  </tbody>\n",
              "</table>\n",
              "</div>\n",
              "    <div class=\"colab-df-buttons\">\n",
              "\n",
              "  <div class=\"colab-df-container\">\n",
              "    <button class=\"colab-df-convert\" onclick=\"convertToInteractive('df-0b9e3469-1182-487b-a250-3a342cf6371d')\"\n",
              "            title=\"Convert this dataframe to an interactive table.\"\n",
              "            style=\"display:none;\">\n",
              "\n",
              "  <svg xmlns=\"http://www.w3.org/2000/svg\" height=\"24px\" viewBox=\"0 -960 960 960\">\n",
              "    <path d=\"M120-120v-720h720v720H120Zm60-500h600v-160H180v160Zm220 220h160v-160H400v160Zm0 220h160v-160H400v160ZM180-400h160v-160H180v160Zm440 0h160v-160H620v160ZM180-180h160v-160H180v160Zm440 0h160v-160H620v160Z\"/>\n",
              "  </svg>\n",
              "    </button>\n",
              "\n",
              "  <style>\n",
              "    .colab-df-container {\n",
              "      display:flex;\n",
              "      gap: 12px;\n",
              "    }\n",
              "\n",
              "    .colab-df-convert {\n",
              "      background-color: #E8F0FE;\n",
              "      border: none;\n",
              "      border-radius: 50%;\n",
              "      cursor: pointer;\n",
              "      display: none;\n",
              "      fill: #1967D2;\n",
              "      height: 32px;\n",
              "      padding: 0 0 0 0;\n",
              "      width: 32px;\n",
              "    }\n",
              "\n",
              "    .colab-df-convert:hover {\n",
              "      background-color: #E2EBFA;\n",
              "      box-shadow: 0px 1px 2px rgba(60, 64, 67, 0.3), 0px 1px 3px 1px rgba(60, 64, 67, 0.15);\n",
              "      fill: #174EA6;\n",
              "    }\n",
              "\n",
              "    .colab-df-buttons div {\n",
              "      margin-bottom: 4px;\n",
              "    }\n",
              "\n",
              "    [theme=dark] .colab-df-convert {\n",
              "      background-color: #3B4455;\n",
              "      fill: #D2E3FC;\n",
              "    }\n",
              "\n",
              "    [theme=dark] .colab-df-convert:hover {\n",
              "      background-color: #434B5C;\n",
              "      box-shadow: 0px 1px 3px 1px rgba(0, 0, 0, 0.15);\n",
              "      filter: drop-shadow(0px 1px 2px rgba(0, 0, 0, 0.3));\n",
              "      fill: #FFFFFF;\n",
              "    }\n",
              "  </style>\n",
              "\n",
              "    <script>\n",
              "      const buttonEl =\n",
              "        document.querySelector('#df-0b9e3469-1182-487b-a250-3a342cf6371d button.colab-df-convert');\n",
              "      buttonEl.style.display =\n",
              "        google.colab.kernel.accessAllowed ? 'block' : 'none';\n",
              "\n",
              "      async function convertToInteractive(key) {\n",
              "        const element = document.querySelector('#df-0b9e3469-1182-487b-a250-3a342cf6371d');\n",
              "        const dataTable =\n",
              "          await google.colab.kernel.invokeFunction('convertToInteractive',\n",
              "                                                    [key], {});\n",
              "        if (!dataTable) return;\n",
              "\n",
              "        const docLinkHtml = 'Like what you see? Visit the ' +\n",
              "          '<a target=\"_blank\" href=https://colab.research.google.com/notebooks/data_table.ipynb>data table notebook</a>'\n",
              "          + ' to learn more about interactive tables.';\n",
              "        element.innerHTML = '';\n",
              "        dataTable['output_type'] = 'display_data';\n",
              "        await google.colab.output.renderOutput(dataTable, element);\n",
              "        const docLink = document.createElement('div');\n",
              "        docLink.innerHTML = docLinkHtml;\n",
              "        element.appendChild(docLink);\n",
              "      }\n",
              "    </script>\n",
              "  </div>\n",
              "\n",
              "\n",
              "<div id=\"df-77fefa40-7d95-4ed1-b3f8-cd4fe6ae62f5\">\n",
              "  <button class=\"colab-df-quickchart\" onclick=\"quickchart('df-77fefa40-7d95-4ed1-b3f8-cd4fe6ae62f5')\"\n",
              "            title=\"Suggest charts\"\n",
              "            style=\"display:none;\">\n",
              "\n",
              "<svg xmlns=\"http://www.w3.org/2000/svg\" height=\"24px\"viewBox=\"0 0 24 24\"\n",
              "     width=\"24px\">\n",
              "    <g>\n",
              "        <path d=\"M19 3H5c-1.1 0-2 .9-2 2v14c0 1.1.9 2 2 2h14c1.1 0 2-.9 2-2V5c0-1.1-.9-2-2-2zM9 17H7v-7h2v7zm4 0h-2V7h2v10zm4 0h-2v-4h2v4z\"/>\n",
              "    </g>\n",
              "</svg>\n",
              "  </button>\n",
              "\n",
              "<style>\n",
              "  .colab-df-quickchart {\n",
              "      --bg-color: #E8F0FE;\n",
              "      --fill-color: #1967D2;\n",
              "      --hover-bg-color: #E2EBFA;\n",
              "      --hover-fill-color: #174EA6;\n",
              "      --disabled-fill-color: #AAA;\n",
              "      --disabled-bg-color: #DDD;\n",
              "  }\n",
              "\n",
              "  [theme=dark] .colab-df-quickchart {\n",
              "      --bg-color: #3B4455;\n",
              "      --fill-color: #D2E3FC;\n",
              "      --hover-bg-color: #434B5C;\n",
              "      --hover-fill-color: #FFFFFF;\n",
              "      --disabled-bg-color: #3B4455;\n",
              "      --disabled-fill-color: #666;\n",
              "  }\n",
              "\n",
              "  .colab-df-quickchart {\n",
              "    background-color: var(--bg-color);\n",
              "    border: none;\n",
              "    border-radius: 50%;\n",
              "    cursor: pointer;\n",
              "    display: none;\n",
              "    fill: var(--fill-color);\n",
              "    height: 32px;\n",
              "    padding: 0;\n",
              "    width: 32px;\n",
              "  }\n",
              "\n",
              "  .colab-df-quickchart:hover {\n",
              "    background-color: var(--hover-bg-color);\n",
              "    box-shadow: 0 1px 2px rgba(60, 64, 67, 0.3), 0 1px 3px 1px rgba(60, 64, 67, 0.15);\n",
              "    fill: var(--button-hover-fill-color);\n",
              "  }\n",
              "\n",
              "  .colab-df-quickchart-complete:disabled,\n",
              "  .colab-df-quickchart-complete:disabled:hover {\n",
              "    background-color: var(--disabled-bg-color);\n",
              "    fill: var(--disabled-fill-color);\n",
              "    box-shadow: none;\n",
              "  }\n",
              "\n",
              "  .colab-df-spinner {\n",
              "    border: 2px solid var(--fill-color);\n",
              "    border-color: transparent;\n",
              "    border-bottom-color: var(--fill-color);\n",
              "    animation:\n",
              "      spin 1s steps(1) infinite;\n",
              "  }\n",
              "\n",
              "  @keyframes spin {\n",
              "    0% {\n",
              "      border-color: transparent;\n",
              "      border-bottom-color: var(--fill-color);\n",
              "      border-left-color: var(--fill-color);\n",
              "    }\n",
              "    20% {\n",
              "      border-color: transparent;\n",
              "      border-left-color: var(--fill-color);\n",
              "      border-top-color: var(--fill-color);\n",
              "    }\n",
              "    30% {\n",
              "      border-color: transparent;\n",
              "      border-left-color: var(--fill-color);\n",
              "      border-top-color: var(--fill-color);\n",
              "      border-right-color: var(--fill-color);\n",
              "    }\n",
              "    40% {\n",
              "      border-color: transparent;\n",
              "      border-right-color: var(--fill-color);\n",
              "      border-top-color: var(--fill-color);\n",
              "    }\n",
              "    60% {\n",
              "      border-color: transparent;\n",
              "      border-right-color: var(--fill-color);\n",
              "    }\n",
              "    80% {\n",
              "      border-color: transparent;\n",
              "      border-right-color: var(--fill-color);\n",
              "      border-bottom-color: var(--fill-color);\n",
              "    }\n",
              "    90% {\n",
              "      border-color: transparent;\n",
              "      border-bottom-color: var(--fill-color);\n",
              "    }\n",
              "  }\n",
              "</style>\n",
              "\n",
              "  <script>\n",
              "    async function quickchart(key) {\n",
              "      const quickchartButtonEl =\n",
              "        document.querySelector('#' + key + ' button');\n",
              "      quickchartButtonEl.disabled = true;  // To prevent multiple clicks.\n",
              "      quickchartButtonEl.classList.add('colab-df-spinner');\n",
              "      try {\n",
              "        const charts = await google.colab.kernel.invokeFunction(\n",
              "            'suggestCharts', [key], {});\n",
              "      } catch (error) {\n",
              "        console.error('Error during call to suggestCharts:', error);\n",
              "      }\n",
              "      quickchartButtonEl.classList.remove('colab-df-spinner');\n",
              "      quickchartButtonEl.classList.add('colab-df-quickchart-complete');\n",
              "    }\n",
              "    (() => {\n",
              "      let quickchartButtonEl =\n",
              "        document.querySelector('#df-77fefa40-7d95-4ed1-b3f8-cd4fe6ae62f5 button');\n",
              "      quickchartButtonEl.style.display =\n",
              "        google.colab.kernel.accessAllowed ? 'block' : 'none';\n",
              "    })();\n",
              "  </script>\n",
              "</div>\n",
              "\n",
              "    </div>\n",
              "  </div>\n"
            ],
            "application/vnd.google.colaboratory.intrinsic+json": {
              "type": "dataframe",
              "summary": "{\n  \"name\": \"cartolafc\",\n  \"rows\": 8,\n  \"fields\": [\n    {\n      \"column\": \"game\",\n      \"properties\": {\n        \"dtype\": \"number\",\n        \"std\": 136.64926030848883,\n        \"min\": 1.0,\n        \"max\": 380.0,\n        \"num_unique_values\": 6,\n        \"samples\": [\n          380.0,\n          190.5,\n          285.25\n        ],\n        \"semantic_type\": \"\",\n        \"description\": \"\"\n      }\n    },\n    {\n      \"column\": \"round\",\n      \"properties\": {\n        \"dtype\": \"number\",\n        \"std\": 128.4031599244015,\n        \"min\": 1.0,\n        \"max\": 380.0,\n        \"num_unique_values\": 7,\n        \"samples\": [\n          380.0,\n          19.5,\n          29.0\n        ],\n        \"semantic_type\": \"\",\n        \"description\": \"\"\n      }\n    },\n    {\n      \"column\": \"gol_m\",\n      \"properties\": {\n        \"dtype\": \"number\",\n        \"std\": 133.77760198500025,\n        \"min\": 0.0,\n        \"max\": 380.0,\n        \"num_unique_values\": 7,\n        \"samples\": [\n          380.0,\n          1.38,\n          2.0\n        ],\n        \"semantic_type\": \"\",\n        \"description\": \"\"\n      }\n    },\n    {\n      \"column\": \"gol_v\",\n      \"properties\": {\n        \"dtype\": \"number\",\n        \"std\": 133.96723530667597,\n        \"min\": 0.0,\n        \"max\": 380.0,\n        \"num_unique_values\": 6,\n        \"samples\": [\n          380.0,\n          0.79,\n          4.0\n        ],\n        \"semantic_type\": \"\",\n        \"description\": \"\"\n      }\n    },\n    {\n      \"column\": \"gols\",\n      \"properties\": {\n        \"dtype\": \"number\",\n        \"std\": 133.52503689784712,\n        \"min\": 0.0,\n        \"max\": 380.0,\n        \"num_unique_values\": 8,\n        \"samples\": [\n          2.18,\n          2.0,\n          380.0\n        ],\n        \"semantic_type\": \"\",\n        \"description\": \"\"\n      }\n    }\n  ]\n}"
            }
          },
          "metadata": {},
          "execution_count": 8
        }
      ],
      "source": [
        "cartolafc.describe().round(2)"
      ]
    },
    {
      "cell_type": "code",
      "execution_count": 9,
      "id": "bf8b4a3b",
      "metadata": {
        "colab": {
          "base_uri": "https://localhost:8080/"
        },
        "id": "bf8b4a3b",
        "outputId": "30552759-a1cc-4379-fd38-9145d7c79687"
      },
      "outputs": [
        {
          "output_type": "stream",
          "name": "stdout",
          "text": [
            "2.1763157894736844\n"
          ]
        }
      ],
      "source": [
        "media_gols = cartolafc['gols'].mean()\n",
        "print(media_gols)"
      ]
    },
    {
      "cell_type": "code",
      "execution_count": 10,
      "id": "b2e889b4",
      "metadata": {
        "colab": {
          "base_uri": "https://localhost:8080/",
          "height": 449
        },
        "id": "b2e889b4",
        "outputId": "50f05cf7-0e76-4019-d998-b3010050aeb6"
      },
      "outputs": [
        {
          "output_type": "display_data",
          "data": {
            "text/plain": [
              "<Figure size 640x480 with 1 Axes>"
            ],
            "image/png": "[encoded data removed]"
          },
          "metadata": {}
        }
      ],
      "source": [
        "# Gráfico da variável gols\n",
        "sb.countplot(x='gols', data=cartolafc);"
      ]
    },
    {
      "cell_type": "code",
      "execution_count": 11,
      "id": "455d4f5a-4457-47a8-9dc5-4d5dd88163d1",
      "metadata": {
        "colab": {
          "base_uri": "https://localhost:8080/",
          "height": 449
        },
        "id": "455d4f5a-4457-47a8-9dc5-4d5dd88163d1",
        "outputId": "b9d01385-4e31-4d46-d405-cca60fdf3a79"
      },
      "outputs": [
        {
          "output_type": "display_data",
          "data": {
            "text/plain": [
              "<Figure size 640x480 with 1 Axes>"
            ],
            "image/png": "[encoded data removed]"
          },
          "metadata": {}
        }
      ],
      "source": [
        "sb.histplot(x='gols', data=cartolafc,  stat=\"percent\", discrete=True);\n"
      ]
    },
    {
      "cell_type": "code",
      "execution_count": 12,
      "id": "36146418",
      "metadata": {
        "colab": {
          "base_uri": "https://localhost:8080/"
        },
        "id": "36146418",
        "outputId": "f1f061cf-df7b-44dc-8dc8-40da4ec08c43"
      },
      "outputs": [
        {
          "output_type": "stream",
          "name": "stdout",
          "text": [
            "2.1763157894736844\n"
          ]
        }
      ],
      "source": [
        "# Calcular a média de gols\n",
        "\n",
        "media_gols = cartolafc['gols'].mean()\n",
        "print(media_gols)"
      ]
    },
    {
      "cell_type": "code",
      "execution_count": 13,
      "id": "0c3cee5c",
      "metadata": {
        "colab": {
          "base_uri": "https://localhost:8080/"
        },
        "id": "0c3cee5c",
        "outputId": "5b4616fb-2ae5-4473-ac9c-8ba2bbc5b4e0"
      },
      "outputs": [
        {
          "output_type": "stream",
          "name": "stdout",
          "text": [
            "prob= 0.11345893365287599\n"
          ]
        }
      ],
      "source": [
        "# Qual a probabilidade de ocorrer 0 gol?\n",
        "# P(K=0) = 0.113413528037031\n",
        "lamb = media_gols\n",
        "euler = 2.71828\n",
        "k=0\n",
        "numerador = (euler**(-lamb))*lamb**k\n",
        "denominador = math.factorial(k)\n",
        "prob_k = numerador/denominador\n",
        "print('prob=', prob_k)"
      ]
    },
    {
      "cell_type": "code",
      "execution_count": 14,
      "id": "75386200",
      "metadata": {
        "colab": {
          "base_uri": "https://localhost:8080/"
        },
        "id": "75386200",
        "outputId": "d4bc6600-4d22-4a09-f6bb-baa471ff99bc"
      },
      "outputs": [
        {
          "output_type": "stream",
          "name": "stdout",
          "text": [
            "prob= 0.2469224687656012\n"
          ]
        }
      ],
      "source": [
        "# Qual a probabilidade de ocorrer 1 gol?\n",
        "# P(K=1) = 0.24682365180690696\n",
        "lamb = media_gols\n",
        "euler = 2.71828\n",
        "k=1\n",
        "numerador = (euler**(-lamb))*lamb**k\n",
        "denominador = math.factorial(k)\n",
        "prob_k = numerador/denominador\n",
        "print('prob=', prob_k)"
      ]
    },
    {
      "cell_type": "code",
      "execution_count": 15,
      "id": "cf773628",
      "metadata": {
        "colab": {
          "base_uri": "https://localhost:8080/"
        },
        "id": "cf773628",
        "outputId": "28c78876-e592-44f2-b42e-664be77cd058"
      },
      "outputs": [
        {
          "output_type": "stream",
          "name": "stdout",
          "text": [
            "prob= 0.26869063377520025\n"
          ]
        }
      ],
      "source": [
        "# Qual a probabilidade de ocorrer 2 gols?\n",
        "# P(K=2) = 0.26858310532146323\n",
        "lamb = media_gols\n",
        "euler = 2.71828\n",
        "k=2\n",
        "numerador = (euler**(-lamb))*lamb**k\n",
        "denominador = math.factorial(k)\n",
        "prob_k = numerador/denominador\n",
        "print('prob=', prob_k)"
      ]
    },
    {
      "cell_type": "code",
      "execution_count": 16,
      "id": "17924e20",
      "metadata": {
        "colab": {
          "base_uri": "https://localhost:8080/"
        },
        "id": "17924e20",
        "outputId": "cc1da3c2-b72d-4adb-c52f-5aa50e4c96d8"
      },
      "outputs": [
        {
          "output_type": "stream",
          "name": "stdout",
          "text": [
            "prob= 0.19491855625621987\n"
          ]
        }
      ],
      "source": [
        "# Qual a probabilidade de ocorrer 3 gols?\n",
        "# P(K=3) = 0.19484055096565803\n",
        "lamb = media_gols\n",
        "euler = 2.71828\n",
        "k=3\n",
        "numerador = (euler**(-lamb))*lamb**k\n",
        "denominador = math.factorial(k)\n",
        "prob_k = numerador/denominador\n",
        "print('prob=', prob_k)"
      ]
    },
    {
      "cell_type": "code",
      "source": [
        "from getpass import getpass\n",
        "\n",
        "# Peça o token de acesso pessoal\n",
        "token = getpass('Digite seu token de acesso pessoal: ')\n",
        "\n",
        "# Use o token para clonar o repositório\n",
        "!git clone https://{token}@github.com/leonesso/cartola-2018\n",
        "%cd cartola-2018"
      ],
      "metadata": {
        "colab": {
          "base_uri": "https://localhost:8080/"
        },
        "id": "rjX_KDWq6uNa",
        "outputId": "c3775bc8-76e3-4cb4-ccc8-aa011a91b418"
      },
      "id": "rjX_KDWq6uNa",
      "execution_count": 1,
      "outputs": [
        {
          "output_type": "stream",
          "name": "stdout",
          "text": [
            "Digite seu token de acesso pessoal: ··········\n",
            "Cloning into 'cartola-2018'...\n",
            "warning: You appear to have cloned an empty repository.\n",
            "/content/cartola-2018\n"
          ]
        }
      ]
    },
    {
      "cell_type": "code",
      "source": [],
      "metadata": {
        "id": "XYBOZNM47C9d"
      },
      "id": "XYBOZNM47C9d",
      "execution_count": null,
      "outputs": []
    },
    {
      "cell_type": "code",
      "source": [
        "# Configure o nome de usuário e e-mail\n",
        "!git config --global user.email \"leonardo.nesso@gmail.com\"\n",
        "!git config --global user.name \"Leonardo Nesso\"\n",
        "\n",
        "# Inicialize um novo repositório Git\n",
        "!git init\n",
        "\n",
        "# Adicione um arquivo inicial\n",
        "!echo \"Arquivo inicial\" > README.md\n",
        "\n",
        "# Adicione o arquivo ao índice\n",
        "!git add README.md\n",
        "\n",
        "# Faça um commit inicial\n",
        "!git commit -m \"Commit inicial\"\n",
        "\n",
        "# Crie a nova branch 'main' e mude para ela\n",
        "!git branch -M main\n",
        "\n",
        "# Peça o token de acesso pessoal\n",
        "from getpass import getpass\n",
        "token = getpass('Digite seu token de acesso pessoal: ')\n",
        "\n",
        "# Adicione a origem remota e empurre para o repositório remoto\n",
        "!git remote add origin https://github.com/leonesso/cartola-2018.git\n",
        "!git push -u origin main"
      ],
      "metadata": {
        "colab": {
          "base_uri": "https://localhost:8080/"
        },
        "id": "zPDSprIg7If-",
        "outputId": "0f6297a5-8492-43b1-8f05-8d80f359b2d7"
      },
      "id": "zPDSprIg7If-",
      "execution_count": 2,
      "outputs": [
        {
          "output_type": "stream",
          "name": "stdout",
          "text": [
            "Reinitialized existing Git repository in /content/cartola-2018/.git/\n",
            "[main (root-commit) 121a646] Commit inicial\n",
            " 1 file changed, 1 insertion(+)\n",
            " create mode 100644 README.md\n",
            "Digite seu token de acesso pessoal: ··········\n",
            "error: remote origin already exists.\n",
            "Enumerating objects: 3, done.\n",
            "Counting objects: 100% (3/3), done.\n",
            "Writing objects: 100% (3/3), 234 bytes | 234.00 KiB/s, done.\n",
            "Total 3 (delta 0), reused 0 (delta 0), pack-reused 0\n",
            "To https://github.com/leonesso/cartola-2018\n",
            " * [new branch]      main -> main\n",
            "Branch 'main' set up to track remote branch 'main' from 'origin'.\n"
          ]
        }
      ]
    },
    {
      "cell_type": "code",
      "source": [
        "# Mude para a nova branch 'main'\n",
        "!git checkout main"
      ],
      "metadata": {
        "colab": {
          "base_uri": "https://localhost:8080/"
        },
        "id": "HdrPp-pl7SOh",
        "outputId": "197e5bd1-b590-4360-fa1c-29d11343a3f4"
      },
      "id": "HdrPp-pl7SOh",
      "execution_count": 3,
      "outputs": [
        {
          "output_type": "stream",
          "name": "stdout",
          "text": [
            "Already on 'main'\n",
            "Your branch is up to date with 'origin/main'.\n"
          ]
        }
      ]
    }
  ],
  "metadata": {
    "kernelspec": {
      "display_name": "Python 3 (ipykernel)",
      "language": "python",
      "name": "python3"
    },
    "language_info": {
      "codemirror_mode": {
        "name": "ipython",
        "version": 3
      },
      "file_extension": ".py",
      "mimetype": "text/x-python",
      "name": "python",
      "nbconvert_exporter": "python",
      "pygments_lexer": "ipython3",
      "version": "3.11.7"
    },
    "colab": {
      "provenance": [],
      "include_colab_link": true
    }
  },
  "nbformat": 4,
  "nbformat_minor": 5
}